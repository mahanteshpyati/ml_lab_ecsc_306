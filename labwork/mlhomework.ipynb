{
 "cells": [
  {
   "cell_type": "code",
   "execution_count": 2,
   "metadata": {},
   "outputs": [
    {
     "name": "stdout",
     "output_type": "stream",
     "text": [
      "9\n"
     ]
    }
   ],
   "source": [
    "\n",
    "##(a-b)^2\n",
    "import tensorflow as tf\n",
    "a=4\n",
    "b=7\n",
    "c=9\n",
    "x=tf.multiply(a,a)\n",
    "y=tf.multiply(b,b)\n",
    "z=tf.multiply(2,a)\n",
    "r=tf.multiply(z,b)\n",
    "s=tf.add(x,y)\n",
    "t=tf.subtract(s,r)\n",
    "\n",
    "\n",
    "with tf.Session() as sess:\n",
    "    writer = tf.summary.FileWriter(\"/tmp/tboard/output1\", sess.graph)\n",
    "    print(sess.run(t))\n",
    "    writer.close()\n",
    "\n",
    "\n"
   ]
  },
  {
   "cell_type": "code",
   "execution_count": 3,
   "metadata": {},
   "outputs": [
    {
     "name": "stdout",
     "output_type": "stream",
     "text": [
      "4\n"
     ]
    }
   ],
   "source": [
    "\n",
    "##(a+b-c)^3\n",
    "import tensorflow as tf\n",
    "a=4\n",
    "b=7\n",
    "c=9\n",
    "x=tf.multiply(a,a)\n",
    "y=tf.multiply(b,b)\n",
    "z=tf.multiply(c,c)\n",
    "r=tf.multiply(2,a)\n",
    "r=tf.multiply(r,b)\n",
    "s=tf.multiply(2,b)\n",
    "s=tf.multiply(s,c)\n",
    "t=tf.multiply(2,c)\n",
    "t=tf.multiply(t,a)\n",
    "u=tf.subtract(r,s)\n",
    "v=tf.subtract(u,t)\n",
    "w=tf.add(x,y)\n",
    "w=tf.add(w,z)\n",
    "result=tf.add(w,v)\n",
    "\n",
    "\n",
    "with tf.Session() as sess:\n",
    "    writer = tf.summary.FileWriter(\"/tmp/tboard/output2\", sess.graph)\n",
    "    print(sess.run(result))\n",
    "    writer.close()\n",
    "\n"
   ]
  },
  {
   "cell_type": "code",
   "execution_count": null,
   "metadata": {
    "collapsed": true
   },
   "outputs": [],
   "source": []
  }
 ],
 "metadata": {
  "kernelspec": {
   "display_name": "Python 3",
   "language": "python",
   "name": "python3"
  },
  "language_info": {
   "codemirror_mode": {
    "name": "ipython",
    "version": 3
   },
   "file_extension": ".py",
   "mimetype": "text/x-python",
   "name": "python",
   "nbconvert_exporter": "python",
   "pygments_lexer": "ipython3",
   "version": "3.6.1"
  }
 },
 "nbformat": 4,
 "nbformat_minor": 2
}

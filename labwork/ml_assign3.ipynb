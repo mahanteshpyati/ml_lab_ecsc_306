{
 "cells": [
  {
   "cell_type": "code",
   "execution_count": 74,
   "metadata": {
    "collapsed": true
   },
   "outputs": [],
   "source": [
    "\n",
    "import numpy as np\n",
    "import tensorflow as tf\n",
    "# for Trial - dataset = [[1, 1], [2, 3], [4, 3], [3, 2], [5, 5]]\n",
    "#d= [[1, 1], [2, 3], [4, 3], [3, 2], [5, 5]]"
   ]
  },
  {
   "cell_type": "code",
   "execution_count": 75,
   "metadata": {
    "collapsed": true
   },
   "outputs": [],
   "source": [
    "import tensorflow as tf\n",
    "x=tf.constant([1.0,2.0,4.0,3.0,5.0],name=\"x\")\n",
    "y=tf.constant([1.0,3.0,3.0,2.0,5.0],name=\"y\")\n",
    "epoch=[100,500,100]\n",
    "t=tf.constant([0.0,1.0,2.0,3.0,4.0],name=\"t\")\n",
    "r=[0.005,0.0005,0.00005,0.05,0.5]\n",
    "#h_tita=[]"
   ]
  },
  {
   "cell_type": "code",
   "execution_count": 76,
   "metadata": {},
   "outputs": [
    {
     "name": "stdout",
     "output_type": "stream",
     "text": [
      "20.0\n"
     ]
    }
   ],
   "source": [
    "for i in range(5):\n",
    "    #h_tita.append(tf.multiply(r[i],x[i]))\n",
    "    h_tita=tf.multiply(t[i],x[i])\n",
    "with tf.Session() as sess:\n",
    "        writer = tf.summary.FileWriter(\"/tmp/tboard/lab2\", sess.graph)\n",
    "        print(sess.run(h_tita))\n",
    "        writer.close()"
   ]
  },
  {
   "cell_type": "code",
   "execution_count": 77,
   "metadata": {},
   "outputs": [
    {
     "name": "stdout",
     "output_type": "stream",
     "text": [
      "Tensor(\"Pow_1169:0\", shape=(), dtype=float32)\n",
      "225.0\n"
     ]
    }
   ],
   "source": [
    "\n",
    "for l in range(5):\n",
    "    cost=tf.pow(tf.subtract(h_tita,y[l]),2.0)\n",
    "                \n",
    "            \n",
    "print(cost)\n",
    "with tf.Session() as sess:\n",
    "        writer = tf.summary.FileWriter(\"/tmp/tboard/lab2\", sess.graph)\n",
    "        print(sess.run(cost))\n",
    "        writer.close()"
   ]
  },
  {
   "cell_type": "code",
   "execution_count": 78,
   "metadata": {},
   "outputs": [],
   "source": [
    "\n",
    "#$$\\theta_1(t+1) = \\theta_1(t) - learning\\_rate * cost(t) * x(t)$$\n",
    "#$$\\theta_0(t+1) = \\theta_0(t) - learning\\_rate * cost(t) $$\n",
    "tita1=0.0\n",
    "for i in epoch:\n",
    "    for j in range(5):\n",
    "        for lr in r:\n",
    "            tita1=tf.subtract(tita1,tf.multiply(lr,(tf.multiply(cost,x[j]))))\n",
    "        \n",
    "tita0=0.0\n",
    "for i in epoch:\n",
    "    for j in range(5):\n",
    "        for lr in r:\n",
    "            tita0=tf.subtract(tita1,tf.multiply(lr,cost))\n",
    "        \n",
    "        \n",
    "    \n",
    "    "
   ]
  },
  {
   "cell_type": "code",
   "execution_count": null,
   "metadata": {},
   "outputs": [],
   "source": []
  },
  {
   "cell_type": "code",
   "execution_count": null,
   "metadata": {
    "collapsed": true
   },
   "outputs": [],
   "source": []
  }
 ],
 "metadata": {
  "kernelspec": {
   "display_name": "Python 3",
   "language": "python",
   "name": "python3"
  },
  "language_info": {
   "codemirror_mode": {
    "name": "ipython",
    "version": 3
   },
   "file_extension": ".py",
   "mimetype": "text/x-python",
   "name": "python",
   "nbconvert_exporter": "python",
   "pygments_lexer": "ipython3",
   "version": "3.6.1"
  }
 },
 "nbformat": 4,
 "nbformat_minor": 2
}

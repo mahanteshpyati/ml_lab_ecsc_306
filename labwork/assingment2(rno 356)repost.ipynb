{
 "cells": [
  {
   "cell_type": "code",
   "execution_count": 323,
   "metadata": {
    "scrolled": true
   },
   "outputs": [
    {
     "name": "stdout",
     "output_type": "stream",
     "text": [
      "mean of x= 5.33750008047\n",
      "mean of y= 4.8124999851\n",
      "varience of x= 6.84734412424\n",
      "covar= 5.84375\n",
      "m= 0.853433\n",
      "y= -2.02597\n"
     ]
    }
   ],
   "source": [
    "import tensorflow as tf\n",
    "import numpy as np\n",
    "import pylab as pt\n",
    "\n",
    "X = np.array([1.1,2.3,3.4,8.6,5.5,6.3,7.2,8.3],dtype=np.float32)\n",
    "\n",
    "Y=np.array([1.4,2.2,3.3,4.6,5.2,6.3,7.2,8.3],dtype=np.float32)\n",
    "\n",
    "ttl=0\n",
    "for x in range(0,X.size):\n",
    "    ttl=ttl+X[x]\n",
    "    c=X.size\n",
    "    \n",
    "meanx=ttl/c\n",
    "print(\"mean of x=\",meanx)\n",
    "\n",
    "\n",
    "\n",
    "ttl1=0\n",
    "for x in range(0,Y.size):\n",
    "    ttl1=ttl1+Y[x]\n",
    "    c1=Y.size\n",
    "    \n",
    "meany=ttl1/c1\n",
    "print(\"mean of y=\",meany)\n",
    "\n",
    "\n",
    "v=0\n",
    "for x in range(0,X.size):\n",
    "    v=v+pow((X[x]-meanx),2)\n",
    "    v1=X.size\n",
    "\n",
    "var=v/v1\n",
    "print(\"varience of x=\",var)\n",
    "\n",
    "\n",
    "covar=0.0\n",
    "for x in range(0,X.size):\n",
    "    covar=covar+tf.multiply(tf.subtract(X[x],meanx),tf.subtract(Y[x],meany))\n",
    "\n",
    "covarf=covar/(X.size-1)\n",
    "    \n",
    "    \n",
    "sess = tf.Session()\n",
    "print(\"covar=\", sess.run(covarf))\n",
    "\n",
    "\n",
    "\n",
    "m=tf.div(covarf,var)\n",
    "print(\"m=\", sess.run(m))\n",
    "\n",
    "\n",
    "\n",
    "\n",
    "\n",
    "\n",
    "\n",
    "#c=meany-m*meanx\n",
    "\n",
    "#c=tf.subtract(meany,tf.multiply(m,meanx))\n",
    "\n",
    "#print(\"c=\", sess.run(c))\n",
    "\n",
    "\n",
    "y=m*x-c\n",
    "print(\"y=\", sess.run(y))\n",
    "\n",
    "\n",
    "\n"
   ]
  },
  {
   "cell_type": "code",
   "execution_count": 222,
   "metadata": {},
   "outputs": [
    {
     "data": {
      "image/png": "[encoded data removed]",
      "text/plain": [
       "<matplotlib.figure.Figure at 0x7f04b8eadef0>"
      ]
     },
     "metadata": {},
     "output_type": "display_data"
    }
   ],
   "source": [
    "pt.plot(X,Y)\n",
    "pt.show()"
   ]
  },
  {
   "cell_type": "code",
   "execution_count": 169,
   "metadata": {},
   "outputs": [
    {
     "data": {
      "text/plain": [
       "13.556844"
      ]
     },
     "execution_count": 169,
     "metadata": {},
     "output_type": "execute_result"
    }
   ],
   "source": [
    "np.sqrt(((X-Y)**2).mean())"
   ]
  },
  {
   "cell_type": "code",
   "execution_count": null,
   "metadata": {
    "collapsed": true
   },
   "outputs": [],
   "source": []
  },
  {
   "cell_type": "code",
   "execution_count": 284,
   "metadata": {},
   "outputs": [
    {
     "name": "stdout",
     "output_type": "stream",
     "text": [
      "sess.run(node3): 35.0\n",
      "sess.run(node3): 40.0\n",
      "sess.run(node3): 45.0\n"
     ]
    }
   ],
   "source": []
  },
  {
   "cell_type": "code",
   "execution_count": 300,
   "metadata": {},
   "outputs": [
    {
     "name": "stdout",
     "output_type": "stream",
     "text": [
      "mean of x= 40.4\n"
     ]
    }
   ],
   "source": []
  },
  {
   "cell_type": "code",
   "execution_count": 301,
   "metadata": {},
   "outputs": [
    {
     "name": "stdout",
     "output_type": "stream",
     "text": [
      "(2, 3)\n"
     ]
    }
   ],
   "source": []
  },
  {
   "cell_type": "code",
   "execution_count": 233,
   "metadata": {},
   "outputs": [
    {
     "name": "stdout",
     "output_type": "stream",
     "text": [
      "Tensor(\"x_6:0\", shape=(), dtype=int32)\n",
      "40\n"
     ]
    }
   ],
   "source": [
    "import tensorflow as tf\n",
    "\n",
    "\n",
    "\n",
    "\n",
    "\n",
    "x = tf.constant(35, name='x')\n",
    "print(x)\n",
    "y = tf.Variable(x + 5, name='y')\n",
    "\n",
    "with tf.Session() as session:\n",
    "    merged = tf.summary.merge_all()\n",
    "    writer = tf.summary.FileWriter(\"/tmp/basic\", session.graph)\n",
    "    model =  tf.global_variables_initializer()\n",
    "    session.run(model)\n",
    "    print(session.run(y))"
   ]
  },
  {
   "cell_type": "code",
   "execution_count": 272,
   "metadata": {},
   "outputs": [
    {
     "name": "stdout",
     "output_type": "stream",
     "text": [
      "WARNING:tensorflow:From /home/mahantesh/anaconda3/lib/python3.6/site-packages/tensorflow/python/util/tf_should_use.py:170: initialize_all_variables (from tensorflow.python.ops.variables) is deprecated and will be removed after 2017-03-02.\n",
      "Instructions for updating:\n",
      "Use `tf.global_variables_initializer` instead.\n",
      "ERROR:tensorflow:==================================\n",
      "Object was never used (type <class 'tensorflow.python.framework.ops.Operation'>):\n",
      "<tf.Operation 'init_36' type=NoOp>\n",
      "If you want to mark it as used call its \"mark_used()\" method.\n",
      "It was originally created here:\n",
      "['File \"/home/mahantesh/anaconda3/lib/python3.6/runpy.py\", line 193, in _run_module_as_main\\n    \"__main__\", mod_spec)', 'File \"/home/mahantesh/anaconda3/lib/python3.6/runpy.py\", line 85, in _run_code\\n    exec(code, run_globals)', 'File \"/home/mahantesh/anaconda3/lib/python3.6/site-packages/ipykernel_launcher.py\", line 16, in <module>\\n    app.launch_new_instance()', 'File \"/home/mahantesh/anaconda3/lib/python3.6/site-packages/traitlets/config/application.py\", line 658, in launch_instance\\n    app.start()', 'File \"/home/mahantesh/anaconda3/lib/python3.6/site-packages/ipykernel/kernelapp.py\", line 477, in start\\n    ioloop.IOLoop.instance().start()', 'File \"/home/mahantesh/anaconda3/lib/python3.6/site-packages/zmq/eventloop/ioloop.py\", line 177, in start\\n    super(ZMQIOLoop, self).start()', 'File \"/home/mahantesh/anaconda3/lib/python3.6/site-packages/tornado/ioloop.py\", line 888, in start\\n    handler_func(fd_obj, events)', 'File \"/home/mahantesh/anaconda3/lib/python3.6/site-packages/tornado/stack_context.py\", line 277, in null_wrapper\\n    return fn(*args, **kwargs)', 'File \"/home/mahantesh/anaconda3/lib/python3.6/site-packages/zmq/eventloop/zmqstream.py\", line 440, in _handle_events\\n    self._handle_recv()', 'File \"/home/mahantesh/anaconda3/lib/python3.6/site-packages/zmq/eventloop/zmqstream.py\", line 472, in _handle_recv\\n    self._run_callback(callback, msg)', 'File \"/home/mahantesh/anaconda3/lib/python3.6/site-packages/zmq/eventloop/zmqstream.py\", line 414, in _run_callback\\n    callback(*args, **kwargs)', 'File \"/home/mahantesh/anaconda3/lib/python3.6/site-packages/tornado/stack_context.py\", line 277, in null_wrapper\\n    return fn(*args, **kwargs)', 'File \"/home/mahantesh/anaconda3/lib/python3.6/site-packages/ipykernel/kernelbase.py\", line 283, in dispatcher\\n    return self.dispatch_shell(stream, msg)', 'File \"/home/mahantesh/anaconda3/lib/python3.6/site-packages/ipykernel/kernelbase.py\", line 235, in dispatch_shell\\n    handler(stream, idents, msg)', 'File \"/home/mahantesh/anaconda3/lib/python3.6/site-packages/ipykernel/kernelbase.py\", line 399, in execute_request\\n    user_expressions, allow_stdin)', 'File \"/home/mahantesh/anaconda3/lib/python3.6/site-packages/ipykernel/ipkernel.py\", line 196, in do_execute\\n    res = shell.run_cell(code, store_history=store_history, silent=silent)', 'File \"/home/mahantesh/anaconda3/lib/python3.6/site-packages/ipykernel/zmqshell.py\", line 533, in run_cell\\n    return super(ZMQInteractiveShell, self).run_cell(*args, **kwargs)', 'File \"/home/mahantesh/anaconda3/lib/python3.6/site-packages/IPython/core/interactiveshell.py\", line 2717, in run_cell\\n    interactivity=interactivity, compiler=compiler, result=result)', 'File \"/home/mahantesh/anaconda3/lib/python3.6/site-packages/IPython/core/interactiveshell.py\", line 2821, in run_ast_nodes\\n    if self.run_code(code, result):', 'File \"/home/mahantesh/anaconda3/lib/python3.6/site-packages/IPython/core/interactiveshell.py\", line 2881, in run_code\\n    exec(code_obj, self.user_global_ns, self.user_ns)', 'File \"<ipython-input-267-c20a19da2443>\", line 6, in <module>\\n    init = tf.initialize_all_variables()', 'File \"/home/mahantesh/anaconda3/lib/python3.6/site-packages/tensorflow/python/util/tf_should_use.py\", line 170, in wrapped\\n    return _add_should_use_warning(fn(*args, **kwargs))', 'File \"/home/mahantesh/anaconda3/lib/python3.6/site-packages/tensorflow/python/util/tf_should_use.py\", line 139, in _add_should_use_warning\\n    wrapped = TFShouldUseWarningWrapper(x)', 'File \"/home/mahantesh/anaconda3/lib/python3.6/site-packages/tensorflow/python/util/tf_should_use.py\", line 96, in __init__\\n    stack = [s.strip() for s in traceback.format_stack()]']\n",
      "==================================\n"
     ]
    },
    {
     "ename": "TypeError",
     "evalue": "'Tensor' object cannot be interpreted as an integer",
     "output_type": "error",
     "traceback": [
      "\u001b[0;31m---------------------------------------------------------------------------\u001b[0m",
      "\u001b[0;31mTypeError\u001b[0m                                 Traceback (most recent call last)",
      "\u001b[0;32m<ipython-input-272-b6cbbc0cb273>\u001b[0m in \u001b[0;36m<module>\u001b[0;34m()\u001b[0m\n\u001b[1;32m     13\u001b[0m \u001b[0;34m\u001b[0m\u001b[0m\n\u001b[1;32m     14\u001b[0m \u001b[0minit\u001b[0m \u001b[0;34m=\u001b[0m \u001b[0mtf\u001b[0m\u001b[0;34m.\u001b[0m\u001b[0minitialize_all_variables\u001b[0m\u001b[0;34m(\u001b[0m\u001b[0;34m)\u001b[0m\u001b[0;34m\u001b[0m\u001b[0m\n\u001b[0;32m---> 15\u001b[0;31m \u001b[0msum\u001b[0m \u001b[0;34m=\u001b[0m \u001b[0mget_sum\u001b[0m\u001b[0;34m(\u001b[0m\u001b[0mx\u001b[0m\u001b[0;34m,\u001b[0m \u001b[0mxshape\u001b[0m\u001b[0;34m)\u001b[0m\u001b[0;34m\u001b[0m\u001b[0m\n\u001b[0m\u001b[1;32m     16\u001b[0m \u001b[0;34m\u001b[0m\u001b[0m\n\u001b[1;32m     17\u001b[0m \u001b[0;32mwith\u001b[0m \u001b[0mtf\u001b[0m\u001b[0;34m.\u001b[0m\u001b[0mSession\u001b[0m\u001b[0;34m(\u001b[0m\u001b[0;34m)\u001b[0m \u001b[0;32mas\u001b[0m \u001b[0msess\u001b[0m\u001b[0;34m:\u001b[0m\u001b[0;34m\u001b[0m\u001b[0m\n",
      "\u001b[0;32m<ipython-input-272-b6cbbc0cb273>\u001b[0m in \u001b[0;36mget_sum\u001b[0;34m(x, xshape)\u001b[0m\n\u001b[1;32m      9\u001b[0m \u001b[0;32mdef\u001b[0m \u001b[0mget_sum\u001b[0m\u001b[0;34m(\u001b[0m\u001b[0mx\u001b[0m\u001b[0;34m,\u001b[0m \u001b[0mxshape\u001b[0m\u001b[0;34m)\u001b[0m\u001b[0;34m:\u001b[0m\u001b[0;34m\u001b[0m\u001b[0m\n\u001b[1;32m     10\u001b[0m   \u001b[0msum\u001b[0m \u001b[0;34m=\u001b[0m \u001b[0;36m0\u001b[0m\u001b[0;34m\u001b[0m\u001b[0m\n\u001b[0;32m---> 11\u001b[0;31m   \u001b[0;32mfor\u001b[0m \u001b[0mi\u001b[0m \u001b[0;32min\u001b[0m \u001b[0mrange\u001b[0m\u001b[0;34m(\u001b[0m\u001b[0mxshape\u001b[0m\u001b[0;34m)\u001b[0m\u001b[0;34m:\u001b[0m\u001b[0;34m\u001b[0m\u001b[0m\n\u001b[0m\u001b[1;32m     12\u001b[0m     \u001b[0msum\u001b[0m \u001b[0;34m+=\u001b[0m \u001b[0mx\u001b[0m\u001b[0;34m[\u001b[0m\u001b[0mi\u001b[0m\u001b[0;34m]\u001b[0m\u001b[0;34m\u001b[0m\u001b[0m\n\u001b[1;32m     13\u001b[0m \u001b[0;34m\u001b[0m\u001b[0m\n",
      "\u001b[0;31mTypeError\u001b[0m: 'Tensor' object cannot be interpreted as an integer"
     ]
    }
   ],
   "source": [
    "import tensorflow as tf\n",
    "import numpy as np\n",
    "import pylab as pt\n",
    "\n",
    "with tf.name_scope(\"assignment_3\"):\n",
    "    \n",
    "\n",
    "        with tf.name_scope(\"Array_x\"):\n",
    "\n",
    "            X = np.array([1.1,2.3,3.4,8.6,5.5,6.3,7.2,8.3],dtype=np.float32)\n",
    "            \n",
    "        with tf.name_scope(\"Array_y\"):    \n",
    "\n",
    "            Y=np.array([1.4,2.2,3.3,4.6,5.2,6.3,7.2,8.3],dtype=np.float32)\n",
    "\n",
    "        with tf.name_scope(\"mean of y\"):    \n",
    "    \n",
    "ttl=0\n",
    "for x in range(0,X.size):\n",
    "    ttl=ttl+X[x]\n",
    "    c=X.size\n",
    "    \n",
    "meanx=ttl/c\n",
    "print(\"mean of x=\",meanx)\n",
    "\n",
    "\n",
    "\n",
    "ttl1=0\n",
    "for x in range(0,Y.size):\n",
    "    ttl1=ttl1+Y[x]\n",
    "    c1=Y.size\n",
    "    \n",
    "meany=ttl1/c1\n",
    "print(\"mean of y=\",meany)\n",
    "\n",
    "\n",
    "v=0\n",
    "for x in range(0,X.size):\n",
    "    v=v+pow((X[x]-meanx),2)\n",
    "    v1=X.size\n",
    "\n",
    "var=v/v1\n",
    "print(\"varience of x=\",var)\n",
    "\n",
    "\n",
    "covar=0.0\n",
    "for x in range(0,X.size):\n",
    "    covar=covar+tf.multiply(tf.subtract(X[x],meanx),tf.subtract(Y[x],meany))\n",
    "\n",
    "covarf=covar/(X.size-1)\n",
    "    \n",
    "    \n",
    "sess = tf.Session()\n",
    "print(\"covar=\", sess.run(covarf))\n",
    "\n",
    "\n",
    "\n",
    "m=tf.div(covarf,var)\n",
    "print(\"m=\", sess.run(m))\n",
    "\n",
    "\n",
    "\n",
    "\n",
    "\n",
    "\n",
    "\n",
    "c=meany-m*meanx\n",
    "\n",
    "print(\"c=\", sess.run(c))\n",
    "\n",
    "\n",
    "y=m*x-c\n",
    "print(\"y=\", sess.run(y))\n",
    "\n",
    "\n",
    "\n"
   ]
  }
 ],
 "metadata": {
  "kernelspec": {
   "display_name": "Python 3",
   "language": "python",
   "name": "python3"
  },
  "language_info": {
   "codemirror_mode": {
    "name": "ipython",
    "version": 3
   },
   "file_extension": ".py",
   "mimetype": "text/x-python",
   "name": "python",
   "nbconvert_exporter": "python",
   "pygments_lexer": "ipython3",
   "version": "3.6.1"
  }
 },
 "nbformat": 4,
 "nbformat_minor": 2
}

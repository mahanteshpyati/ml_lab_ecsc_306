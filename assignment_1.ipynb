{
 "cells": [
  {
   "cell_type": "code",
   "execution_count": 1,
   "metadata": {},
   "outputs": [
    {
     "name": "stdout",
     "output_type": "stream",
     "text": [
      "9\n"
     ]
    }
   ],
   "source": [
    "##(a−b)2=a2+b2−2ab\n",
    "\n",
    "import tensorflow as tf\n",
    "with tf.name_scope(\"assignment_1_1\"):\n",
    "    with tf.name_scope(\"a_square\"):\n",
    "        x=6\n",
    "        a = tf.pow(x,2)\n",
    "    with tf.name_scope(\"b_square\"):\n",
    "        y=3\n",
    "        b = tf.pow(y,2)\n",
    "\n",
    "    with tf.name_scope(\"2_a_b\"):\n",
    "        e = tf.multiply(2,tf.multiply(x,y))\n",
    "\n",
    "    with tf.name_scope(\"final_solution\"):\n",
    "        f = tf.subtract(tf.add(a,b),e)\n",
    "        \n",
    "   \n",
    "\n",
    "\n",
    "    with tf.Session() as sess:\n",
    "        writer = tf.summary.FileWriter(\"/tmp/tboard/output3\", sess.graph)\n",
    "        print(sess.run(f))\n",
    "        writer.close()"
   ]
  },
  {
   "cell_type": "code",
   "execution_count": 2,
   "metadata": {},
   "outputs": [
    {
     "name": "stdout",
     "output_type": "stream",
     "text": [
      "49\n"
     ]
    }
   ],
   "source": [
    "##(a+b−c)2=a2+b2+c2+2xy−2yz−2xz\n",
    "\n",
    "import tensorflow as tf\n",
    "with tf.name_scope(\"assignment_3\"):\n",
    "        with tf.name_scope(\"A_square\"):\n",
    "            x=7\n",
    "            a = tf.pow(x,2)\n",
    "        with tf.name_scope(\"B_square\"):\n",
    "            y=4\n",
    "            b = tf.pow(y,2)\n",
    "        \n",
    "        with tf.name_scope(\"c_square\"):\n",
    "            z=4\n",
    "            c = tf.pow(y,2)\n",
    "\n",
    "        with tf.name_scope(\"2_X_Y\"):\n",
    "            e = tf.multiply(2,tf.multiply(x,y))\n",
    "\n",
    "        with tf.name_scope(\"2_Y_Z\"):\n",
    "            f= tf.multiply(2,tf.multiply(y,z))\n",
    "        \n",
    "        with tf.name_scope(\"2_X_Z\"):\n",
    "            g= tf.multiply(2,tf.multiply(x,z))\n",
    "        \n",
    "        with tf.name_scope(\"sum_of_A_B_C\"):\n",
    "            h=tf.add(a,tf.add(b,c))\n",
    "            \n",
    "        with tf.name_scope(\"sub_of_E_F_G\"):\n",
    "            i=tf.subtract(tf.subtract(e,f),g)\n",
    "        \n",
    "        with tf.name_scope(\"final_SOLUTION\"):\n",
    "            j=tf.add(h,i)\n",
    "\n",
    "        \n",
    "   \n",
    "\n",
    "        with tf.Session() as sess:\n",
    "            writer = tf.summary.FileWriter(\"/tmp/tboard/output4\", sess.graph)\n",
    "            print(sess.run(j))\n",
    "            writer.close()"
   ]
  },
  {
   "cell_type": "code",
   "execution_count": null,
   "metadata": {
    "collapsed": true
   },
   "outputs": [],
   "source": []
  }
 ],
 "metadata": {
  "kernelspec": {
   "display_name": "Python 3",
   "language": "python",
   "name": "python3"
  },
  "language_info": {
   "codemirror_mode": {
    "name": "ipython",
    "version": 3
   },
   "file_extension": ".py",
   "mimetype": "text/x-python",
   "name": "python",
   "nbconvert_exporter": "python",
   "pygments_lexer": "ipython3",
   "version": "3.6.1"
  }
 },
 "nbformat": 4,
 "nbformat_minor": 2
}
